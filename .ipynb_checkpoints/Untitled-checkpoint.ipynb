{
 "cells": [
  {
   "cell_type": "code",
   "execution_count": 1,
   "id": "09b059a7-4263-491c-be1a-0447e6823754",
   "metadata": {},
   "outputs": [
    {
     "name": "stdout",
     "output_type": "stream",
     "text": [
      "Requirement already satisfied: matplotlib in c:\\users\\sandeep\\appdata\\local\\programs\\python\\python311\\lib\\site-packages (3.10.3)\n",
      "Requirement already satisfied: seaborn in c:\\users\\sandeep\\appdata\\local\\programs\\python\\python311\\lib\\site-packages (0.13.2)\n",
      "Requirement already satisfied: opendatasets in c:\\users\\sandeep\\appdata\\local\\programs\\python\\python311\\lib\\site-packages (0.1.22)\n",
      "Requirement already satisfied: contourpy>=1.0.1 in c:\\users\\sandeep\\appdata\\local\\programs\\python\\python311\\lib\\site-packages (from matplotlib) (1.3.2)\n",
      "Requirement already satisfied: cycler>=0.10 in c:\\users\\sandeep\\appdata\\local\\programs\\python\\python311\\lib\\site-packages (from matplotlib) (0.12.1)\n",
      "Requirement already satisfied: fonttools>=4.22.0 in c:\\users\\sandeep\\appdata\\local\\programs\\python\\python311\\lib\\site-packages (from matplotlib) (4.58.4)\n",
      "Requirement already satisfied: kiwisolver>=1.3.1 in c:\\users\\sandeep\\appdata\\local\\programs\\python\\python311\\lib\\site-packages (from matplotlib) (1.4.8)\n",
      "Requirement already satisfied: numpy>=1.23 in c:\\users\\sandeep\\appdata\\local\\programs\\python\\python311\\lib\\site-packages (from matplotlib) (2.3.0)\n",
      "Requirement already satisfied: packaging>=20.0 in c:\\users\\sandeep\\appdata\\local\\programs\\python\\python311\\lib\\site-packages (from matplotlib) (24.2)\n",
      "Requirement already satisfied: pillow>=8 in c:\\users\\sandeep\\appdata\\local\\programs\\python\\python311\\lib\\site-packages (from matplotlib) (11.2.1)\n",
      "Requirement already satisfied: pyparsing>=2.3.1 in c:\\users\\sandeep\\appdata\\local\\programs\\python\\python311\\lib\\site-packages (from matplotlib) (3.2.3)\n",
      "Requirement already satisfied: python-dateutil>=2.7 in c:\\users\\sandeep\\appdata\\local\\programs\\python\\python311\\lib\\site-packages (from matplotlib) (2.9.0.post0)\n",
      "Requirement already satisfied: pandas>=1.2 in c:\\users\\sandeep\\appdata\\local\\programs\\python\\python311\\lib\\site-packages (from seaborn) (2.3.0)\n",
      "Requirement already satisfied: tqdm in c:\\users\\sandeep\\appdata\\local\\programs\\python\\python311\\lib\\site-packages (from opendatasets) (4.67.1)\n",
      "Requirement already satisfied: kaggle in c:\\users\\sandeep\\appdata\\local\\programs\\python\\python311\\lib\\site-packages (from opendatasets) (1.7.4.5)\n",
      "Requirement already satisfied: click in c:\\users\\sandeep\\appdata\\local\\programs\\python\\python311\\lib\\site-packages (from opendatasets) (8.2.1)\n",
      "Requirement already satisfied: pytz>=2020.1 in c:\\users\\sandeep\\appdata\\local\\programs\\python\\python311\\lib\\site-packages (from pandas>=1.2->seaborn) (2025.2)\n",
      "Requirement already satisfied: tzdata>=2022.7 in c:\\users\\sandeep\\appdata\\local\\programs\\python\\python311\\lib\\site-packages (from pandas>=1.2->seaborn) (2025.2)\n",
      "Requirement already satisfied: six>=1.5 in c:\\users\\sandeep\\appdata\\local\\programs\\python\\python311\\lib\\site-packages (from python-dateutil>=2.7->matplotlib) (1.17.0)\n",
      "Requirement already satisfied: colorama in c:\\users\\sandeep\\appdata\\local\\programs\\python\\python311\\lib\\site-packages (from click->opendatasets) (0.4.6)\n",
      "Requirement already satisfied: bleach in c:\\users\\sandeep\\appdata\\local\\programs\\python\\python311\\lib\\site-packages (from kaggle->opendatasets) (6.2.0)\n",
      "Requirement already satisfied: certifi>=14.05.14 in c:\\users\\sandeep\\appdata\\local\\programs\\python\\python311\\lib\\site-packages (from kaggle->opendatasets) (2025.1.31)\n",
      "Requirement already satisfied: charset-normalizer in c:\\users\\sandeep\\appdata\\local\\programs\\python\\python311\\lib\\site-packages (from kaggle->opendatasets) (3.4.1)\n",
      "Requirement already satisfied: idna in c:\\users\\sandeep\\appdata\\local\\programs\\python\\python311\\lib\\site-packages (from kaggle->opendatasets) (3.10)\n",
      "Requirement already satisfied: protobuf in c:\\users\\sandeep\\appdata\\local\\programs\\python\\python311\\lib\\site-packages (from kaggle->opendatasets) (6.31.1)\n",
      "Requirement already satisfied: python-slugify in c:\\users\\sandeep\\appdata\\local\\programs\\python\\python311\\lib\\site-packages (from kaggle->opendatasets) (8.0.4)\n",
      "Requirement already satisfied: requests in c:\\users\\sandeep\\appdata\\local\\programs\\python\\python311\\lib\\site-packages (from kaggle->opendatasets) (2.32.3)\n",
      "Requirement already satisfied: setuptools>=21.0.0 in c:\\users\\sandeep\\appdata\\local\\programs\\python\\python311\\lib\\site-packages (from kaggle->opendatasets) (65.5.0)\n",
      "Requirement already satisfied: text-unidecode in c:\\users\\sandeep\\appdata\\local\\programs\\python\\python311\\lib\\site-packages (from kaggle->opendatasets) (1.3)\n",
      "Requirement already satisfied: urllib3>=1.15.1 in c:\\users\\sandeep\\appdata\\local\\programs\\python\\python311\\lib\\site-packages (from kaggle->opendatasets) (2.3.0)\n",
      "Requirement already satisfied: webencodings in c:\\users\\sandeep\\appdata\\local\\programs\\python\\python311\\lib\\site-packages (from kaggle->opendatasets) (0.5.1)\n"
     ]
    },
    {
     "name": "stderr",
     "output_type": "stream",
     "text": [
      "\n",
      "[notice] A new release of pip is available: 24.0 -> 25.1.1\n",
      "[notice] To update, run: python.exe -m pip install --upgrade pip\n"
     ]
    }
   ],
   "source": [
    "!pip install matplotlib seaborn opendatasets \n"
   ]
  },
  {
   "cell_type": "code",
   "execution_count": 2,
   "id": "9ea8f2a5-eba9-45c4-8098-0c9ddb0f3edd",
   "metadata": {},
   "outputs": [
    {
     "name": "stdout",
     "output_type": "stream",
     "text": [
      "Requirement already satisfied: geopandas in c:\\users\\sandeep\\appdata\\local\\programs\\python\\python311\\lib\\site-packages (1.1.0)\n",
      "Requirement already satisfied: folium in c:\\users\\sandeep\\appdata\\local\\programs\\python\\python311\\lib\\site-packages (0.20.0)\n",
      "Requirement already satisfied: rasterio in c:\\users\\sandeep\\appdata\\local\\programs\\python\\python311\\lib\\site-packages (1.4.3)\n",
      "Requirement already satisfied: shapely in c:\\users\\sandeep\\appdata\\local\\programs\\python\\python311\\lib\\site-packages (2.1.1)\n",
      "Requirement already satisfied: pyproj in c:\\users\\sandeep\\appdata\\local\\programs\\python\\python311\\lib\\site-packages (3.7.1)\n",
      "Requirement already satisfied: fiona in c:\\users\\sandeep\\appdata\\local\\programs\\python\\python311\\lib\\site-packages (1.10.1)\n",
      "Requirement already satisfied: numpy>=1.24 in c:\\users\\sandeep\\appdata\\local\\programs\\python\\python311\\lib\\site-packages (from geopandas) (2.3.0)\n",
      "Requirement already satisfied: pyogrio>=0.7.2 in c:\\users\\sandeep\\appdata\\local\\programs\\python\\python311\\lib\\site-packages (from geopandas) (0.11.0)\n",
      "Requirement already satisfied: packaging in c:\\users\\sandeep\\appdata\\local\\programs\\python\\python311\\lib\\site-packages (from geopandas) (24.2)\n",
      "Requirement already satisfied: pandas>=2.0.0 in c:\\users\\sandeep\\appdata\\local\\programs\\python\\python311\\lib\\site-packages (from geopandas) (2.3.0)\n",
      "Requirement already satisfied: branca>=0.6.0 in c:\\users\\sandeep\\appdata\\local\\programs\\python\\python311\\lib\\site-packages (from folium) (0.8.1)\n",
      "Requirement already satisfied: jinja2>=2.9 in c:\\users\\sandeep\\appdata\\local\\programs\\python\\python311\\lib\\site-packages (from folium) (3.1.6)\n",
      "Requirement already satisfied: requests in c:\\users\\sandeep\\appdata\\local\\programs\\python\\python311\\lib\\site-packages (from folium) (2.32.3)\n",
      "Requirement already satisfied: xyzservices in c:\\users\\sandeep\\appdata\\local\\programs\\python\\python311\\lib\\site-packages (from folium) (2025.4.0)\n",
      "Requirement already satisfied: affine in c:\\users\\sandeep\\appdata\\local\\programs\\python\\python311\\lib\\site-packages (from rasterio) (2.4.0)\n",
      "Requirement already satisfied: attrs in c:\\users\\sandeep\\appdata\\local\\programs\\python\\python311\\lib\\site-packages (from rasterio) (25.3.0)\n",
      "Requirement already satisfied: certifi in c:\\users\\sandeep\\appdata\\local\\programs\\python\\python311\\lib\\site-packages (from rasterio) (2025.1.31)\n",
      "Requirement already satisfied: click>=4.0 in c:\\users\\sandeep\\appdata\\local\\programs\\python\\python311\\lib\\site-packages (from rasterio) (8.2.1)\n",
      "Requirement already satisfied: cligj>=0.5 in c:\\users\\sandeep\\appdata\\local\\programs\\python\\python311\\lib\\site-packages (from rasterio) (0.7.2)\n",
      "Requirement already satisfied: click-plugins in c:\\users\\sandeep\\appdata\\local\\programs\\python\\python311\\lib\\site-packages (from rasterio) (1.1.1)\n",
      "Requirement already satisfied: pyparsing in c:\\users\\sandeep\\appdata\\local\\programs\\python\\python311\\lib\\site-packages (from rasterio) (3.2.3)\n",
      "Requirement already satisfied: colorama in c:\\users\\sandeep\\appdata\\local\\programs\\python\\python311\\lib\\site-packages (from click>=4.0->rasterio) (0.4.6)\n",
      "Requirement already satisfied: MarkupSafe>=2.0 in c:\\users\\sandeep\\appdata\\local\\programs\\python\\python311\\lib\\site-packages (from jinja2>=2.9->folium) (3.0.2)\n",
      "Requirement already satisfied: python-dateutil>=2.8.2 in c:\\users\\sandeep\\appdata\\local\\programs\\python\\python311\\lib\\site-packages (from pandas>=2.0.0->geopandas) (2.9.0.post0)\n",
      "Requirement already satisfied: pytz>=2020.1 in c:\\users\\sandeep\\appdata\\local\\programs\\python\\python311\\lib\\site-packages (from pandas>=2.0.0->geopandas) (2025.2)\n",
      "Requirement already satisfied: tzdata>=2022.7 in c:\\users\\sandeep\\appdata\\local\\programs\\python\\python311\\lib\\site-packages (from pandas>=2.0.0->geopandas) (2025.2)\n",
      "Requirement already satisfied: charset-normalizer<4,>=2 in c:\\users\\sandeep\\appdata\\local\\programs\\python\\python311\\lib\\site-packages (from requests->folium) (3.4.1)\n",
      "Requirement already satisfied: idna<4,>=2.5 in c:\\users\\sandeep\\appdata\\local\\programs\\python\\python311\\lib\\site-packages (from requests->folium) (3.10)\n",
      "Requirement already satisfied: urllib3<3,>=1.21.1 in c:\\users\\sandeep\\appdata\\local\\programs\\python\\python311\\lib\\site-packages (from requests->folium) (2.3.0)\n",
      "Requirement already satisfied: six>=1.5 in c:\\users\\sandeep\\appdata\\local\\programs\\python\\python311\\lib\\site-packages (from python-dateutil>=2.8.2->pandas>=2.0.0->geopandas) (1.17.0)\n"
     ]
    },
    {
     "name": "stderr",
     "output_type": "stream",
     "text": [
      "\n",
      "[notice] A new release of pip is available: 24.0 -> 25.1.1\n",
      "[notice] To update, run: python.exe -m pip install --upgrade pip\n"
     ]
    }
   ],
   "source": [
    "!pip install geopandas folium rasterio shapely pyproj fiona\n"
   ]
  },
  {
   "cell_type": "code",
   "execution_count": 3,
   "id": "40255581-9b57-4acd-b3dd-0f7ae8ca734c",
   "metadata": {},
   "outputs": [],
   "source": [
    "import opendatasets as od "
   ]
  },
  {
   "cell_type": "code",
   "execution_count": null,
   "id": "ba2523a5-32c7-40a2-a562-35119374c7ed",
   "metadata": {},
   "outputs": [
    {
     "name": "stdout",
     "output_type": "stream",
     "text": [
      "Please provide your Kaggle credentials to download this dataset. Learn more: http://bit.ly/kaggle-creds\n",
      "Your Kaggle username:"
     ]
    },
    {
     "name": "stdin",
     "output_type": "stream",
     "text": [
      "  aakash318\n"
     ]
    },
    {
     "name": "stdout",
     "output_type": "stream",
     "text": [
      "Your Kaggle Key:"
     ]
    }
   ],
   "source": [
    "od.download(\"https://www.kaggle.com/datasets/febinphilips/us-house-listings-2023\")\n"
   ]
  },
  {
   "cell_type": "code",
   "execution_count": null,
   "id": "2e0e1789-94e1-4585-8754-ec44672348e8",
   "metadata": {},
   "outputs": [
    {
     "name": "stdout",
     "output_type": "stream",
     "text": [
      "Please provide your Kaggle credentials to download this dataset. Learn more: http://bit.ly/kaggle-creds\n",
      "Your Kaggle username:"
     ]
    }
   ],
   "source": [
    "od.download(\"https://www.kaggle.com/datasets/lynma01/femas-national-flood-insurance-policy-database\")\n"
   ]
  },
  {
   "cell_type": "code",
   "execution_count": null,
   "id": "47bd73cc-9f37-465f-8e21-00aef0a81e9d",
   "metadata": {},
   "outputs": [],
   "source": []
  }
 ],
 "metadata": {
  "kernelspec": {
   "display_name": "Python 3 (ipykernel)",
   "language": "python",
   "name": "python3"
  },
  "language_info": {
   "codemirror_mode": {
    "name": "ipython",
    "version": 3
   },
   "file_extension": ".py",
   "mimetype": "text/x-python",
   "name": "python",
   "nbconvert_exporter": "python",
   "pygments_lexer": "ipython3",
   "version": "3.11.2"
  }
 },
 "nbformat": 4,
 "nbformat_minor": 5
}
